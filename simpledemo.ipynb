{
 "cells": [
  {
   "cell_type": "code",
   "execution_count": null,
   "id": "3f181ffd-7f24-4cb0-b06c-a99575ba664e",
   "metadata": {},
   "outputs": [],
   "source": [
    "!pip install seaborn\n",
    "import numpy as np\n",
    "import matplotlib.pyplot as plt\n",
    "import pandas as pd\n",
    "import os\n",
    "import tensorflow as tf\n",
    "import seaborn as sns\n",
    "from myplotting import PlotLearning"
   ]
  },
  {
   "cell_type": "code",
   "execution_count": null,
   "id": "91fa6700-e6d4-46f6-ad02-2fafd71577a0",
   "metadata": {},
   "outputs": [],
   "source": [
    "# Step 1. Load train and test data set.\n",
    "mnist = tf.keras.datasets.mnist\n",
    "(X_train_full, y_train_full), (X_test, y_test) = mnist.load_data()\n",
    "\n",
    "# Scale the data b/w 0 and 1 by dividing it by 255 as its unsigned int\n",
    "X_train_full = X_train_full/255.\n",
    "X_test = X_test/255.\n",
    "\n",
    "# Create the validation data from training data.\n",
    "X_valid, X_train = X_train_full[:5000], X_train_full[5000:]\n",
    "y_valid, y_train = y_train_full[:5000], y_train_full[5000:]\n",
    "\n",
    "# lets create the model\n",
    "# Flatten = make the array to sequential layer\n",
    "# Dense = creating a hidden OR output layer\n",
    "LAYERS = [tf.keras.layers.Flatten(input_shape=[28,28], name=\"inputLayer\"),\n",
    "         tf.keras.layers.Dense(300, activation=\"relu\", name=\"hiddenLayer1\"),\n",
    "         tf.keras.layers.Dense(100, activation=\"relu\", name=\"hiddenLayer2\"),\n",
    "         tf.keras.layers.Dense(10, activation=\"softmax\", name=\"outputLayer\")\n",
    "         ]\n",
    "model = tf.keras.models.Sequential(LAYERS)\n",
    "\n",
    "hidden1 = model.layers[1]\n",
    "weights, biases = hidden1.get_weights()\n",
    "\n",
    "LOSS_FUNCTION = \"sparse_categorical_crossentropy\"\n",
    "OPTIMIZER = \"SGD\"\n",
    "METRICS = [\"accuracy\"]\n",
    "\n",
    "model.compile(\n",
    "    loss=LOSS_FUNCTION, optimizer=OPTIMIZER, metrics=METRICS\n",
    ")"
   ]
  },
  {
   "cell_type": "code",
   "execution_count": null,
   "id": "fcedae63-f039-47aa-859a-37fe4825a2e6",
   "metadata": {},
   "outputs": [],
   "source": [
    "EPOCHS = 30\n",
    "VALIDATION_SET = (X_valid, y_valid)\n",
    "history = model.fit(X_train, y_train, epochs=EPOCHS,\n",
    "                   validation_data=VALIDATION_SET,\n",
    "                   callbacks=[PlotLearning()])"
   ]
  }
 ],
 "metadata": {
  "kernelspec": {
   "display_name": "Python 3 (ipykernel)",
   "language": "python",
   "name": "python3"
  },
  "language_info": {
   "codemirror_mode": {
    "name": "ipython",
    "version": 3
   },
   "file_extension": ".py",
   "mimetype": "text/x-python",
   "name": "python",
   "nbconvert_exporter": "python",
   "pygments_lexer": "ipython3",
   "version": "3.8.6"
  }
 },
 "nbformat": 4,
 "nbformat_minor": 5
}
